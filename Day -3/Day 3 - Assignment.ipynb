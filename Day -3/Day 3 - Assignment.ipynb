{
 "cells": [
  {
   "cell_type": "code",
   "execution_count": 2,
   "metadata": {},
   "outputs": [],
   "source": [
    "#Question 1\n",
    "#You all are Pilots, you want to land a plane safely, so altitude required for landing a plane is 1000ft, it it is less than tell pilot to land the plane, or it is more than that but less than 5000ft ask the pilot to \"come down to 1000ft\", else if it more than 5000ft ask the pilot to \"go around and try later\"¶\n",
    "#Example : Input - 1000 ; Output - Safe to Land\n",
    "#Example : Input - 4500 ; Output - Bring down to 1000\n",
    "#Example : Input - 6500 ; Output - Turn Around\n"
   ]
  },
  {
   "cell_type": "code",
   "execution_count": 3,
   "metadata": {},
   "outputs": [
    {
     "name": "stdout",
     "output_type": "stream",
     "text": [
      "Enter the height : 5000\n"
     ]
    }
   ],
   "source": [
    "height = int(input(\"Enter the height : \"))"
   ]
  },
  {
   "cell_type": "code",
   "execution_count": 4,
   "metadata": {},
   "outputs": [
    {
     "name": "stdout",
     "output_type": "stream",
     "text": [
      "Bring down to 1000\n"
     ]
    }
   ],
   "source": [
    "if height <= 1000:\n",
    "    print(\"Safe to Land\")\n",
    "elif height > 1000 and height <=5000:\n",
    "    print(\"Bring down to 1000\")\n",
    "else:\n",
    "    print(\"Turn Around\")"
   ]
  },
  {
   "cell_type": "code",
   "execution_count": 5,
   "metadata": {},
   "outputs": [
    {
     "name": "stdout",
     "output_type": "stream",
     "text": [
      "Enter the height : 1000\n"
     ]
    }
   ],
   "source": [
    "height = int(input(\"Enter the height : \"))\n",
    "\n"
   ]
  },
  {
   "cell_type": "code",
   "execution_count": 6,
   "metadata": {},
   "outputs": [],
   "source": [
    "#Question 2\n",
    "#Using for loop please print all the prime numbers between 1-200 using FOR LOOP AND RANGE function.¶\n",
    "#Output - 2,3,5,7."
   ]
  },
  {
   "cell_type": "code",
   "execution_count": 7,
   "metadata": {},
   "outputs": [],
   "source": [
    "num_list = range(1,201)"
   ]
  },
  {
   "cell_type": "code",
   "execution_count": 8,
   "metadata": {},
   "outputs": [
    {
     "name": "stdout",
     "output_type": "stream",
     "text": [
      "2,3,5,7,11,13,17,19,23,29,31,37,41,43,47,53,59,61,67,71,73,79,83,89,97,101,103,107,109,113,127,131,137,139,149,151,157,163,167,173,179,181,191,193,197,199,"
     ]
    }
   ],
   "source": [
    "for num in num_list:\n",
    "   if num > 1:\n",
    "       for i in range(2, num):\n",
    "           if (num % i) == 0:\n",
    "               break\n",
    "       else:\n",
    "           print(num,end=\",\")"
   ]
  },
  {
   "cell_type": "code",
   "execution_count": null,
   "metadata": {},
   "outputs": [],
   "source": []
  }
 ],
 "metadata": {
  "kernelspec": {
   "display_name": "Python 3",
   "language": "python",
   "name": "python3"
  },
  "language_info": {
   "codemirror_mode": {
    "name": "ipython",
    "version": 3
   },
   "file_extension": ".py",
   "mimetype": "text/x-python",
   "name": "python",
   "nbconvert_exporter": "python",
   "pygments_lexer": "ipython3",
   "version": "3.8.3"
  }
 },
 "nbformat": 4,
 "nbformat_minor": 4
}
