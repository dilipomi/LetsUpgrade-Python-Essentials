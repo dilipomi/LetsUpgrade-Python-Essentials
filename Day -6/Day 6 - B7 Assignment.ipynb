{
 "cells": [
  {
   "cell_type": "markdown",
   "metadata": {},
   "source": [
    "# Question 1:Create a Banck Account class their has two attribute owner name and balance And two methods is deposit and withdrow"
   ]
  },
  {
   "cell_type": "code",
   "execution_count": 1,
   "metadata": {},
   "outputs": [
    {
     "name": "stdout",
     "output_type": "stream",
     "text": [
      "Enter your name please : Dilip\n",
      "Hello!!! Dilip  Welcome to YOUR BANK\n",
      "Enter amount to be Deposited: 5000\n",
      "\n",
      " Amount Deposited: 5000.0\n",
      "Enter amount to be Withdrawn: 100\n",
      "\n",
      " You Withdraw: 100.0\n",
      "\n",
      " Net Available Balance= 4900.0\n"
     ]
    }
   ],
   "source": [
    "class Bank_Account: \n",
    "    def __init__(self,Owner_name): \n",
    "        self.balance=0\n",
    "        self.Owner_name=Owner_name\n",
    "        print(f\"Hello!!! {self.Owner_name}  Welcome to YOUR BANK\") \n",
    "  \n",
    "    def deposit(self): \n",
    "        amount=float(input(\"Enter amount to be Deposited: \")) \n",
    "        self.balance += amount \n",
    "        print(\"\\n Amount Deposited:\",amount) \n",
    "  \n",
    "    def withdraw(self): \n",
    "        amount = float(input(\"Enter amount to be Withdrawn: \")) \n",
    "        if self.balance>=amount: \n",
    "            self.balance-=amount \n",
    "            print(\"\\n You Withdraw:\", amount) \n",
    "        else: \n",
    "            print(\"\\n Insufficient balance  \") \n",
    "  \n",
    "    def display(self): \n",
    "        print(\"\\n Net Available Balance=\",self.balance) \n",
    "     \n",
    "# creating an object of class \n",
    "s = Bank_Account(input(\"Enter your name please : \")) \n",
    "   \n",
    "# Calling functions with that class object \n",
    "s.deposit() \n",
    "s.withdraw() \n",
    "s.display()"
   ]
  },
  {
   "cell_type": "code",
   "execution_count": 2,
   "metadata": {},
   "outputs": [
    {
     "name": "stdout",
     "output_type": "stream",
     "text": [
      "Enter amount to be Withdrawn: 900\n",
      "\n",
      " You Withdraw: 900.0\n",
      "\n",
      " Net Available Balance= 4000.0\n"
     ]
    }
   ],
   "source": [
    "s.withdraw() \n",
    "s.display()\n"
   ]
  },
  {
   "cell_type": "code",
   "execution_count": 3,
   "metadata": {},
   "outputs": [
    {
     "name": "stdout",
     "output_type": "stream",
     "text": [
      "Enter amount to be Withdrawn: 5000\n",
      "\n",
      " Insufficient balance  \n",
      "\n",
      " Net Available Balance= 4000.0\n"
     ]
    }
   ],
   "source": [
    "s.withdraw() \n",
    "s.display()"
   ]
  },
  {
   "cell_type": "markdown",
   "metadata": {},
   "source": [
    "# Question 2 : Create a class for cone their has two attribute radius and height And two methods also , one is calulate volume and another is find surface area of that cone"
   ]
  },
  {
   "cell_type": "code",
   "execution_count": 4,
   "metadata": {},
   "outputs": [
    {
     "name": "stdout",
     "output_type": "stream",
     "text": [
      "Volume : 314.15926535897927\n",
      "Surface : 282.7433388230814\n"
     ]
    }
   ],
   "source": [
    "import math \n",
    "pi = math.pi \n",
    "  \n",
    "class Cone:\n",
    "    def __init__(self, r, h):\n",
    "       self.r = r\n",
    "       self.h = h\n",
    "       \n",
    "    def volume(self): \n",
    "        return (1 / 3) * pi * self.r**2  * self.h\n",
    "    def surfacearea(self): \n",
    "        base = (pi * self.r **2)\n",
    "        side = (pi * self.r * math.sqrt((self.r**2) + (self.h**2)))\n",
    "        return (pi * self.r **2) + (pi * self.r * math.sqrt((self.r**2) + (self.h**2)))\n",
    "        \n",
    "calc_volume = Cone(5,12)\n",
    "print(f\"Volume : {calc_volume.volume()}\")\n",
    "\n",
    "calc_surface = Cone(5,12)\n",
    "print(f\"Surface : {calc_surface.surfacearea()}\")"
   ]
  },
  {
   "cell_type": "code",
   "execution_count": null,
   "metadata": {},
   "outputs": [],
   "source": []
  }
 ],
 "metadata": {
  "kernelspec": {
   "display_name": "Python 3",
   "language": "python",
   "name": "python3"
  },
  "language_info": {
   "codemirror_mode": {
    "name": "ipython",
    "version": 3
   },
   "file_extension": ".py",
   "mimetype": "text/x-python",
   "name": "python",
   "nbconvert_exporter": "python",
   "pygments_lexer": "ipython3",
   "version": "3.8.3"
  }
 },
 "nbformat": 4,
 "nbformat_minor": 4
}
